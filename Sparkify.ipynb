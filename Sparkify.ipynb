{
 "cells": [
  {
   "cell_type": "markdown",
   "metadata": {},
   "source": [
    "# Sparkify Project Workspace\n",
    "\n",
    "This workspace is used for the final Capstone project from Udacity. \n",
    "\n",
    "### Problem Statement\n",
    "Given is a timeseries from a fictional music app company with services similar to Spotify or Pandora. Main goal is to identify which users will churn. In giving predictions who is likely to churn the company could take counter measures such as discounts.\n",
    "\n",
    "Diffrent models are used to predict which user is likely to churn. As this is a unbalanced dataframe of churned and not churned users the f1 metric is used.\n",
    "\n",
    "Please read the ReadMe and the blog post for further information."
   ]
  },
  {
   "cell_type": "code",
   "execution_count": 1,
   "metadata": {},
   "outputs": [],
   "source": [
    "# import libraries\n",
    "from pyspark import SparkContext\n",
    "from pyspark.sql import SparkSession\n",
    "from pyspark.sql import functions as F\n",
    "from pyspark.sql.types import IntegerType, DateType\n",
    "\n",
    "\n",
    "from pyspark.ml import Pipeline\n",
    "from pyspark.ml.tuning import CrossValidator, ParamGridBuilder\n",
    "from pyspark.ml.classification import LogisticRegression, RandomForestClassifier, GBTClassifier\n",
    "from pyspark.ml.feature import MinMaxScaler, VectorAssembler\n",
    "from pyspark.ml.tuning import CrossValidator, ParamGridBuilder\n",
    "from pyspark.ml.evaluation import BinaryClassificationEvaluator, MulticlassClassificationEvaluator\n",
    "\n",
    "\n",
    "import pandas as pd\n",
    "import matplotlib.pyplot as plt\n",
    "import matplotlib.dates as pltdates\n",
    "import seaborn as sns\n",
    "\n",
    "%matplotlib inline"
   ]
  },
  {
   "cell_type": "code",
   "execution_count": 2,
   "metadata": {},
   "outputs": [
    {
     "data": {
      "text/plain": [
       "[('spark.rdd.compress', 'True'),\n",
       " ('spark.app.name', 'Sparkify'),\n",
       " ('spark.serializer.objectStreamReset', '100'),\n",
       " ('spark.driver.port', '43403'),\n",
       " ('spark.master', 'local[*]'),\n",
       " ('spark.executor.id', 'driver'),\n",
       " ('spark.submit.deployMode', 'client'),\n",
       " ('spark.app.id', 'local-1595774395042'),\n",
       " ('spark.ui.showConsoleProgress', 'true'),\n",
       " ('spark.driver.host', '7cf82e3a211a')]"
      ]
     },
     "execution_count": 2,
     "metadata": {},
     "output_type": "execute_result"
    }
   ],
   "source": [
    "# create a Spark session\n",
    "spark = SparkSession.builder\\\n",
    "                    .appName('Sparkify')\\\n",
    "                    .getOrCreate()\n",
    "\n",
    "datafilePath = 'mini_sparkify_event_data.json'\n",
    "processed_file_path = 'sparkify_processed_mini.json'\n",
    "\n",
    "spark.sparkContext.getConf().getAll()"
   ]
  },
  {
   "cell_type": "markdown",
   "metadata": {},
   "source": [
    "# Load and Clean Dataset\n"
   ]
  },
  {
   "cell_type": "code",
   "execution_count": 3,
   "metadata": {},
   "outputs": [
    {
     "name": "stdout",
     "output_type": "stream",
     "text": [
      "root\n",
      " |-- artist: string (nullable = true)\n",
      " |-- auth: string (nullable = true)\n",
      " |-- firstName: string (nullable = true)\n",
      " |-- gender: string (nullable = true)\n",
      " |-- itemInSession: long (nullable = true)\n",
      " |-- lastName: string (nullable = true)\n",
      " |-- length: double (nullable = true)\n",
      " |-- level: string (nullable = true)\n",
      " |-- location: string (nullable = true)\n",
      " |-- method: string (nullable = true)\n",
      " |-- page: string (nullable = true)\n",
      " |-- registration: long (nullable = true)\n",
      " |-- sessionId: long (nullable = true)\n",
      " |-- song: string (nullable = true)\n",
      " |-- status: long (nullable = true)\n",
      " |-- ts: long (nullable = true)\n",
      " |-- userAgent: string (nullable = true)\n",
      " |-- userId: string (nullable = true)\n",
      "\n",
      "(286500, 18)\n"
     ]
    }
   ],
   "source": [
    "user_log = spark.read.json(datafilePath)\n",
    "user_log.printSchema()\n",
    "print((user_log.count(), len(user_log.columns)))"
   ]
  },
  {
   "cell_type": "markdown",
   "metadata": {},
   "source": [
    "As the whole Dataframe could be loaded into this workspace with no further problmems, the cleaning will be done after taking a closer look with the EDA"
   ]
  },
  {
   "cell_type": "markdown",
   "metadata": {},
   "source": [
    "# Exploratory Data Analysis\n",
    "\n",
    "#### 1. A look into the data. Where Data is missing and how to handle that.\n",
    "\n",
    "### Note: Churn is (in this worksapce) defined as users who visited the page \"Cancellation Confirmation\"\n",
    "\n",
    "#### 2. How churn is defined and how many users churn. Behavior for users who stayed vs users who churned.\n",
    "##### Please note that some of the behavior analytics are directly in the Feature Engineering Section\n",
    "\n"
   ]
  },
  {
   "cell_type": "code",
   "execution_count": 4,
   "metadata": {
    "scrolled": false
   },
   "outputs": [
    {
     "name": "stdout",
     "output_type": "stream",
     "text": [
      "+-------+------------------+----------+---------+------+------------------+--------+-----------------+------+-----------------+------+-------+--------------------+-----------------+--------------------+------------------+--------------------+--------------------+-----------------+\n",
      "|summary|            artist|      auth|firstName|gender|     itemInSession|lastName|           length| level|         location|method|   page|        registration|        sessionId|                song|            status|                  ts|           userAgent|           userId|\n",
      "+-------+------------------+----------+---------+------+------------------+--------+-----------------+------+-----------------+------+-------+--------------------+-----------------+--------------------+------------------+--------------------+--------------------+-----------------+\n",
      "|  count|            228108|    286500|   278154|278154|            286500|  278154|           228108|286500|           278154|286500| 286500|              278154|           286500|              228108|            286500|              286500|              278154|           286500|\n",
      "|   mean| 551.0852017937219|      null|     null|  null|114.41421291448516|    null|249.1171819778458|  null|             null|  null|   null|1.535358834084427...|1041.526554973822|            Infinity|210.05459685863875|1.540956889810483...|                null|59682.02278593872|\n",
      "| stddev|1217.7693079161374|      null|     null|  null|129.76726201140994|    null|99.23517921058361|  null|             null|  null|   null| 3.291321616327586E9|726.7762634630741|                 NaN| 31.50507848842214|1.5075439608226302E9|                null|109091.9499991047|\n",
      "|    min|               !!!| Cancelled| Adelaida|     F|                 0|   Adams|          0.78322|  free|       Albany, OR|   GET|  About|       1521380675000|                1|\u001c",
      "ÃÂg ÃÂtti Gr...|               200|       1538352117000|\"Mozilla/5.0 (Mac...|                 |\n",
      "|    max| ÃÂlafur Arnalds|Logged Out|   Zyonna|     M|              1321|  Wright|       3024.66567|  paid|Winston-Salem, NC|   PUT|Upgrade|       1543247354000|             2474|ÃÂau hafa slopp...|               404|       1543799476000|Mozilla/5.0 (comp...|               99|\n",
      "+-------+------------------+----------+---------+------+------------------+--------+-----------------+------+-----------------+------+-------+--------------------+-----------------+--------------------+------------------+--------------------+--------------------+-----------------+\n",
      "\n"
     ]
    }
   ],
   "source": [
    "user_log.describe().show()"
   ]
  },
  {
   "cell_type": "markdown",
   "metadata": {},
   "source": [
    "###  From this point on first and last Name of the user won't be used in the exploration and feature Engineering any longer as it holds no valuable information for the prediction."
   ]
  },
  {
   "cell_type": "markdown",
   "metadata": {},
   "source": [
    "Showing the distinct or counted values for columns"
   ]
  },
  {
   "cell_type": "code",
   "execution_count": 5,
   "metadata": {},
   "outputs": [
    {
     "name": "stdout",
     "output_type": "stream",
     "text": [
      "artist count :  17656\n",
      "+----------+\n",
      "|      auth|\n",
      "+----------+\n",
      "|Logged Out|\n",
      "| Cancelled|\n",
      "|     Guest|\n",
      "| Logged In|\n",
      "+----------+\n",
      "\n",
      "None\n",
      "+------+\n",
      "|gender|\n",
      "+------+\n",
      "|     F|\n",
      "|  null|\n",
      "|     M|\n",
      "+------+\n",
      "\n",
      "None\n",
      "itemInSession count :  1322\n",
      "+-----+\n",
      "|level|\n",
      "+-----+\n",
      "| free|\n",
      "| paid|\n",
      "+-----+\n",
      "\n",
      "None\n",
      "+--------------------+\n",
      "|            location|\n",
      "+--------------------+\n",
      "|     Gainesville, FL|\n",
      "|Atlantic City-Ham...|\n",
      "|Deltona-Daytona B...|\n",
      "|San Diego-Carlsba...|\n",
      "|Cleveland-Elyria, OH|\n",
      "|Kingsport-Bristol...|\n",
      "|New Haven-Milford...|\n",
      "|Birmingham-Hoover...|\n",
      "|  Corpus Christi, TX|\n",
      "|         Dubuque, IA|\n",
      "|Las Vegas-Henders...|\n",
      "|Indianapolis-Carm...|\n",
      "|Seattle-Tacoma-Be...|\n",
      "|          Albany, OR|\n",
      "|   Winston-Salem, NC|\n",
      "|     Bakersfield, CA|\n",
      "|Los Angeles-Long ...|\n",
      "|Minneapolis-St. P...|\n",
      "|San Francisco-Oak...|\n",
      "|Phoenix-Mesa-Scot...|\n",
      "+--------------------+\n",
      "only showing top 20 rows\n",
      "\n",
      "None\n",
      "+------+\n",
      "|method|\n",
      "+------+\n",
      "|   PUT|\n",
      "|   GET|\n",
      "+------+\n",
      "\n",
      "None\n",
      "+--------------------+\n",
      "|                page|\n",
      "+--------------------+\n",
      "|              Cancel|\n",
      "|    Submit Downgrade|\n",
      "|         Thumbs Down|\n",
      "|                Home|\n",
      "|           Downgrade|\n",
      "|         Roll Advert|\n",
      "|              Logout|\n",
      "|       Save Settings|\n",
      "|Cancellation Conf...|\n",
      "|               About|\n",
      "| Submit Registration|\n",
      "|            Settings|\n",
      "|               Login|\n",
      "|            Register|\n",
      "|     Add to Playlist|\n",
      "|          Add Friend|\n",
      "|            NextSong|\n",
      "|           Thumbs Up|\n",
      "|                Help|\n",
      "|             Upgrade|\n",
      "+--------------------+\n",
      "only showing top 20 rows\n",
      "\n",
      "None\n",
      "+------+\n",
      "|status|\n",
      "+------+\n",
      "|   307|\n",
      "|   404|\n",
      "|   200|\n",
      "+------+\n",
      "\n",
      "None\n",
      "userId count :  226\n"
     ]
    }
   ],
   "source": [
    "# ToDO describing why which column was used, also where is the column length\n",
    "# analysis of each column\n",
    "\n",
    "for s in user_log.schema:    \n",
    "    if str(s.name) in ['auth','gender','level' ,'location',\\\n",
    "                          'method','page','status']:\n",
    "        print(user_log.select(s.name).distinct().show())\n",
    "    if str(s.name) in ['userId','artist','itemInSession']:\n",
    "        print(\"{} count : \".format(s.name), user_log.select(s.name).distinct().count())"
   ]
  },
  {
   "cell_type": "markdown",
   "metadata": {},
   "source": [
    "There are 226 distinct users in the dataframe. Method refers to the http methods and status for the correspondent http status codes and wont be used any further with the excpetion of the missing values analysis. As this seem to hold no valuable information it won't be use any further also with the excpetion of the missing values analysis. This also applies to the column userAgent."
   ]
  },
  {
   "cell_type": "markdown",
   "metadata": {},
   "source": [
    "### Exploring null values in the dataframe"
   ]
  },
  {
   "cell_type": "code",
   "execution_count": 6,
   "metadata": {},
   "outputs": [
    {
     "data": {
      "text/plain": [
       "[Row(artist=58392, auth=0, firstName=8346, gender=8346, itemInSession=0, lastName=8346, length=58392, level=0, location=8346, method=0, page=0, registration=8346, sessionId=0, song=58392, status=0, ts=0, userAgent=8346, userId=0)]"
      ]
     },
     "execution_count": 6,
     "metadata": {},
     "output_type": "execute_result"
    }
   ],
   "source": [
    "# how many null values there are for each column\n",
    "user_log.select([F.count(F.when(F.isnull(c), c)).alias(c) for c in user_log.columns]).collect()"
   ]
  },
  {
   "cell_type": "code",
   "execution_count": 7,
   "metadata": {},
   "outputs": [
    {
     "name": "stdout",
     "output_type": "stream",
     "text": [
      "+-------------------+\n",
      "|               page|\n",
      "+-------------------+\n",
      "|               Home|\n",
      "|              About|\n",
      "|Submit Registration|\n",
      "|              Login|\n",
      "|           Register|\n",
      "|               Help|\n",
      "|              Error|\n",
      "+-------------------+\n",
      "\n"
     ]
    }
   ],
   "source": [
    "# # exploring null vlaues in column location\n",
    "user_log.filter(user_log[\"location\"].isNull())\\\n",
    "        .select(\"page\")\\\n",
    "        .distinct().show()"
   ]
  },
  {
   "cell_type": "code",
   "execution_count": 8,
   "metadata": {},
   "outputs": [
    {
     "name": "stdout",
     "output_type": "stream",
     "text": [
      "+-------------------+\n",
      "|               page|\n",
      "+-------------------+\n",
      "|               Home|\n",
      "|              About|\n",
      "|Submit Registration|\n",
      "|              Login|\n",
      "|           Register|\n",
      "|               Help|\n",
      "|              Error|\n",
      "+-------------------+\n",
      "\n"
     ]
    }
   ],
   "source": [
    "# exploring null vlaues in column firstName\n",
    "user_log.filter(user_log[\"firstName\"].isNull())\\\n",
    "        .select(\"page\")\\\n",
    "        .distinct()\\\n",
    "        .show()"
   ]
  },
  {
   "cell_type": "markdown",
   "metadata": {},
   "source": [
    "The columns firstName, gender, lastName, location (where user is based), registration (since when) and userAgent all have 8346 rows with missing columns. Not only is the number suspiciously the sameand appear on the same page visits, but these also are all user based informations. As there only occur on the pages Home, About, Submit Registration, Login, Register, Help, Error we can conclude, that the user is not logged at these page visits, thus data is missing.\n",
    "\n",
    "As we need to specify each datapoint to one user (to analyse churn behavior) these rows will later be deleted."
   ]
  },
  {
   "cell_type": "code",
   "execution_count": 9,
   "metadata": {},
   "outputs": [
    {
     "name": "stdout",
     "output_type": "stream",
     "text": [
      "+--------------------+\n",
      "|                page|\n",
      "+--------------------+\n",
      "|              Cancel|\n",
      "|    Submit Downgrade|\n",
      "|         Thumbs Down|\n",
      "|                Home|\n",
      "|           Downgrade|\n",
      "|         Roll Advert|\n",
      "|              Logout|\n",
      "|       Save Settings|\n",
      "|Cancellation Conf...|\n",
      "|               About|\n",
      "| Submit Registration|\n",
      "|            Settings|\n",
      "|               Login|\n",
      "|            Register|\n",
      "|     Add to Playlist|\n",
      "|          Add Friend|\n",
      "|           Thumbs Up|\n",
      "|                Help|\n",
      "|             Upgrade|\n",
      "|               Error|\n",
      "+--------------------+\n",
      "only showing top 20 rows\n",
      "\n"
     ]
    }
   ],
   "source": [
    "# exploring null vlaues in column song\n",
    "user_log.filter(user_log[\"song\"].isNull())\\\n",
    "        .select(\"page\")\\\n",
    "        .distinct().show()"
   ]
  },
  {
   "cell_type": "code",
   "execution_count": 10,
   "metadata": {},
   "outputs": [
    {
     "name": "stdout",
     "output_type": "stream",
     "text": [
      "+--------------------+\n",
      "|                page|\n",
      "+--------------------+\n",
      "|              Cancel|\n",
      "|    Submit Downgrade|\n",
      "|         Thumbs Down|\n",
      "|                Home|\n",
      "|           Downgrade|\n",
      "|         Roll Advert|\n",
      "|              Logout|\n",
      "|       Save Settings|\n",
      "|Cancellation Conf...|\n",
      "|               About|\n",
      "| Submit Registration|\n",
      "|            Settings|\n",
      "|               Login|\n",
      "|            Register|\n",
      "|     Add to Playlist|\n",
      "|          Add Friend|\n",
      "|           Thumbs Up|\n",
      "|                Help|\n",
      "|             Upgrade|\n",
      "|               Error|\n",
      "+--------------------+\n",
      "only showing top 20 rows\n",
      "\n"
     ]
    }
   ],
   "source": [
    "# exploring null vlaues in column artist\n",
    "user_log.filter(user_log[\"artist\"].isNull())\\\n",
    "        .select(\"page\")\\\n",
    "        .distinct().show()"
   ]
  },
  {
   "cell_type": "markdown",
   "metadata": {},
   "source": [
    "Here we have the a similar case as with the missing user specific data. Here all song specific data is missing when a user does somehting which is not directly related to the songs. \n",
    "\n",
    "As it still holds valuable information in terms of user behavior the data will stay in place to derive features out of it later."
   ]
  },
  {
   "cell_type": "code",
   "execution_count": 11,
   "metadata": {},
   "outputs": [
    {
     "data": {
      "text/plain": [
       "286500"
      ]
     },
     "execution_count": 11,
     "metadata": {},
     "output_type": "execute_result"
    }
   ],
   "source": [
    "# dropping data with missing userId oder sessionId as previously discussed\n",
    "user_log_valid = user_log.dropna(how=\"any\", subset=[\"userId\",\"sessionId\"])\n",
    "\n",
    "user_log_valid.count()"
   ]
  },
  {
   "cell_type": "code",
   "execution_count": 12,
   "metadata": {},
   "outputs": [
    {
     "data": {
      "text/plain": [
       "278154"
      ]
     },
     "execution_count": 12,
     "metadata": {},
     "output_type": "execute_result"
    }
   ],
   "source": [
    "# also dropping users with an empty string as ID\n",
    "\n",
    "user_log_valid = user_log_valid.filter(user_log_valid[\"userId\"] != \"\")\n",
    "user_log_valid.count()\n"
   ]
  },
  {
   "cell_type": "code",
   "execution_count": 13,
   "metadata": {},
   "outputs": [
    {
     "data": {
      "text/plain": [
       "225"
      ]
     },
     "execution_count": 13,
     "metadata": {},
     "output_type": "execute_result"
    }
   ],
   "source": [
    "# checking how many distinct users are left\n",
    "user_log_valid.select('userId').distinct().count()"
   ]
  },
  {
   "cell_type": "code",
   "execution_count": 14,
   "metadata": {},
   "outputs": [],
   "source": [
    "user_log_valid = user_log_valid.select([\"userId\", \"gender\", \"level\", \"page\", \"registration\", \"sessionId\", \"ts\"])"
   ]
  },
  {
   "cell_type": "code",
   "execution_count": 15,
   "metadata": {},
   "outputs": [
    {
     "data": {
      "image/png": "[encoded data removed]",
      "text/plain": [
       "<matplotlib.figure.Figure at 0x7f49d2746b70>"
      ]
     },
     "metadata": {
      "needs_background": "light"
     },
     "output_type": "display_data"
    }
   ],
   "source": [
    "# ration gender in dataset\n",
    "gender_df = user_log_valid.select(F.col(\"userId\"),F.col(\"gender\"))\n",
    "gender_df_plot = gender_df.groupby(gender_df.gender).count().toPandas()\n",
    "\n",
    "gender_df_plot.plot.bar(x='gender', y='count', color='C0')\n",
    "plt.show()"
   ]
  },
  {
   "cell_type": "code",
   "execution_count": 16,
   "metadata": {},
   "outputs": [
    {
     "data": {
      "image/png": "[encoded data removed]",
      "text/plain": [
       "<matplotlib.figure.Figure at 0x7f49b57ca160>"
      ]
     },
     "metadata": {
      "needs_background": "light"
     },
     "output_type": "display_data"
    }
   ],
   "source": [
    "# ration level in dataset\n",
    "level_df = user_log_valid.select(F.col(\"userId\"),F.col(\"level\"))\n",
    "level_df_plot = level_df.groupby(level_df.level).count().toPandas()\n",
    "\n",
    "level_df_plot.plot.bar(x='level', y='count', color='C0')\n",
    "plt.show()"
   ]
  },
  {
   "cell_type": "markdown",
   "metadata": {},
   "source": [
    "### Churn is defined as users who visited the page \"Cancellation Confirmation\""
   ]
  },
  {
   "cell_type": "code",
   "execution_count": 17,
   "metadata": {},
   "outputs": [
    {
     "name": "stdout",
     "output_type": "stream",
     "text": [
      "+------+------+-----+--------------------+-------------+---------+-------------+\n",
      "|userId|gender|level|                page| registration|sessionId|           ts|\n",
      "+------+------+-----+--------------------+-------------+---------+-------------+\n",
      "|    18|     M| paid|Cancellation Conf...|1535623466000|      514|1538943990000|\n",
      "|    32|     M| paid|Cancellation Conf...|1537167593000|      540|1539033046000|\n",
      "|   125|     M| free|Cancellation Conf...|1533157139000|      174|1539318918000|\n",
      "+------+------+-----+--------------------+-------------+---------+-------------+\n",
      "only showing top 3 rows\n",
      "\n"
     ]
    }
   ],
   "source": [
    "# find churn example\n",
    "user_log_valid.filter(\"page = 'Cancellation Confirmation'\").show(3)"
   ]
  },
  {
   "cell_type": "code",
   "execution_count": 18,
   "metadata": {},
   "outputs": [],
   "source": [
    "# flag for churn\n",
    "flag_churn_event = F.udf(lambda x: 1 if x == \"Cancellation Confirmation\" else 0, IntegerType())"
   ]
  },
  {
   "cell_type": "code",
   "execution_count": 19,
   "metadata": {},
   "outputs": [
    {
     "data": {
      "text/plain": [
       "Row(userId='30', gender='M', level='paid', page='NextSong', registration=1538173362000, sessionId=29, ts=1538352117000, churn=0)"
      ]
     },
     "execution_count": 19,
     "metadata": {},
     "output_type": "execute_result"
    }
   ],
   "source": [
    "# add column with churn (1 churned, 0 stayed)\n",
    "user_log_valid = user_log_valid.withColumn(\"churn\", flag_churn_event(\"page\"))\n",
    "\n",
    "# check example\n",
    "user_log_valid.head()"
   ]
  },
  {
   "cell_type": "code",
   "execution_count": 20,
   "metadata": {},
   "outputs": [
    {
     "name": "stdout",
     "output_type": "stream",
     "text": [
      "+-----+------+\n",
      "|churn| count|\n",
      "+-----+------+\n",
      "|    0|278102|\n",
      "|    1|    52|\n",
      "+-----+------+\n",
      "\n"
     ]
    }
   ],
   "source": [
    "# aggregate churn by event\n",
    "events_in_churn = user_log_valid.groupby(user_log_valid.churn).count() \\\n",
    "                                 .orderBy(user_log_valid.churn)\n",
    "events_in_churn.show()"
   ]
  },
  {
   "cell_type": "markdown",
   "metadata": {},
   "source": [
    "We can see that in this dataframe 52 users have churned in total.\n",
    "\n",
    "Next we group by users to get a more detailed look."
   ]
  },
  {
   "cell_type": "code",
   "execution_count": 21,
   "metadata": {},
   "outputs": [
    {
     "data": {
      "text/html": [
       "<div>\n",
       "<style scoped>\n",
       "    .dataframe tbody tr th:only-of-type {\n",
       "        vertical-align: middle;\n",
       "    }\n",
       "\n",
       "    .dataframe tbody tr th {\n",
       "        vertical-align: top;\n",
       "    }\n",
       "\n",
       "    .dataframe thead th {\n",
       "        text-align: right;\n",
       "    }\n",
       "</style>\n",
       "<table border=\"1\" class=\"dataframe\">\n",
       "  <thead>\n",
       "    <tr style=\"text-align: right;\">\n",
       "      <th></th>\n",
       "      <th>churn</th>\n",
       "      <th>count</th>\n",
       "    </tr>\n",
       "  </thead>\n",
       "  <tbody>\n",
       "    <tr>\n",
       "      <th>0</th>\n",
       "      <td>0</td>\n",
       "      <td>173</td>\n",
       "    </tr>\n",
       "    <tr>\n",
       "      <th>1</th>\n",
       "      <td>1</td>\n",
       "      <td>52</td>\n",
       "    </tr>\n",
       "  </tbody>\n",
       "</table>\n",
       "</div>"
      ],
      "text/plain": [
       "   churn  count\n",
       "0      0    173\n",
       "1      1     52"
      ]
     },
     "execution_count": 21,
     "metadata": {},
     "output_type": "execute_result"
    }
   ],
   "source": [
    "\n",
    "# aggregate churn by userId\n",
    "users_in_churn = user_log_valid.groupby(user_log_valid.userId,\n",
    "                                         user_log_valid.gender).agg({\"churn\": \"max\"}) \n",
    "\n",
    "# rename aggregated columns\n",
    "users_in_churn = users_in_churn.select(F.col(\"userId\"),\n",
    "                                       F.col(\"gender\"),\n",
    "                                       F.col(\"max(churn)\").alias(\"churn\"))\n",
    "\n",
    "\n",
    "# distribution by churn\n",
    "dist_churn = users_in_churn.groupby(users_in_churn.churn) \\\n",
    "                           .count() \\\n",
    "                           .orderBy(users_in_churn.churn)\n",
    "dist_churn_pd = dist_churn.toPandas()\n",
    "dist_churn_pd"
   ]
  },
  {
   "cell_type": "code",
   "execution_count": 22,
   "metadata": {},
   "outputs": [
    {
     "data": {
      "image/png": "[encoded data removed]",
      "text/plain": [
       "<matplotlib.figure.Figure at 0x7f49b570d898>"
      ]
     },
     "metadata": {
      "needs_background": "light"
     },
     "output_type": "display_data"
    }
   ],
   "source": [
    "# visualize frequency over time\n",
    "dist_churn_pd.plot.bar(x='churn', y='count', color='C0')\n",
    "plt.show()"
   ]
  },
  {
   "cell_type": "code",
   "execution_count": 23,
   "metadata": {},
   "outputs": [
    {
     "data": {
      "text/plain": [
       "23.11111111111111"
      ]
     },
     "execution_count": 23,
     "metadata": {},
     "output_type": "execute_result"
    }
   ],
   "source": [
    "# percent of churned users\n",
    "user_log_valid.filter(user_log_valid['churn']==1).select('userId').distinct().count()/user_log_valid.select('userId')\\\n",
    "        .distinct().count() * 100\n",
    "\n"
   ]
  },
  {
   "cell_type": "code",
   "execution_count": 24,
   "metadata": {},
   "outputs": [
    {
     "data": {
      "text/html": [
       "<div>\n",
       "<style scoped>\n",
       "    .dataframe tbody tr th:only-of-type {\n",
       "        vertical-align: middle;\n",
       "    }\n",
       "\n",
       "    .dataframe tbody tr th {\n",
       "        vertical-align: top;\n",
       "    }\n",
       "\n",
       "    .dataframe thead th {\n",
       "        text-align: right;\n",
       "    }\n",
       "</style>\n",
       "<table border=\"1\" class=\"dataframe\">\n",
       "  <thead>\n",
       "    <tr style=\"text-align: right;\">\n",
       "      <th></th>\n",
       "      <th>churn</th>\n",
       "      <th>gender</th>\n",
       "      <th>count</th>\n",
       "    </tr>\n",
       "  </thead>\n",
       "  <tbody>\n",
       "    <tr>\n",
       "      <th>0</th>\n",
       "      <td>0</td>\n",
       "      <td>M</td>\n",
       "      <td>89</td>\n",
       "    </tr>\n",
       "    <tr>\n",
       "      <th>1</th>\n",
       "      <td>0</td>\n",
       "      <td>F</td>\n",
       "      <td>84</td>\n",
       "    </tr>\n",
       "    <tr>\n",
       "      <th>2</th>\n",
       "      <td>1</td>\n",
       "      <td>F</td>\n",
       "      <td>20</td>\n",
       "    </tr>\n",
       "    <tr>\n",
       "      <th>3</th>\n",
       "      <td>1</td>\n",
       "      <td>M</td>\n",
       "      <td>32</td>\n",
       "    </tr>\n",
       "  </tbody>\n",
       "</table>\n",
       "</div>"
      ],
      "text/plain": [
       "   churn gender  count\n",
       "0      0      M     89\n",
       "1      0      F     84\n",
       "2      1      F     20\n",
       "3      1      M     32"
      ]
     },
     "execution_count": 24,
     "metadata": {},
     "output_type": "execute_result"
    }
   ],
   "source": [
    "\n",
    "# distribution by churn\n",
    "dist_churn_gender = users_in_churn.groupby(users_in_churn.churn, users_in_churn.gender) \\\n",
    "                           .count() \\\n",
    "                           .orderBy(users_in_churn.churn)\n",
    "dist_churn_gender_pd = dist_churn_gender.toPandas()\n",
    "\n",
    "# visualize churn distribution\n",
    "dist_churn_gender_pd.head()\n",
    "\n"
   ]
  },
  {
   "cell_type": "markdown",
   "metadata": {},
   "source": [
    "In total 23% of the usern in the dataset churned. \n",
    "\n",
    "It can be seen, that about 20% of the females churned and 26% of the males. According to this data man are more likely to churn.\n",
    "\n",
    "At this point it can also be concluded that this is a inbalanced dataset as there are far more not churned users than churned ones."
   ]
  },
  {
   "cell_type": "markdown",
   "metadata": {},
   "source": [
    "## Here some fancy VIZ"
   ]
  },
  {
   "cell_type": "markdown",
   "metadata": {},
   "source": [
    "## Feature Engineering"
   ]
  },
  {
   "cell_type": "markdown",
   "metadata": {},
   "source": [
    "In the this section following 12 features are implented, in two categories. \n",
    "\n",
    "User related features:\n",
    " - downgraded (if a user downgraded from a paid version)\n",
    " - gender_female (indicator for gender)\n",
    " - level_paid (if user uses paid version)\n",
    " - registered_days (how many days past since user registered)\n",
    " - days_since_online (how many days past since he was last online)\n",
    " \n",
    "Song / Session related features\n",
    " - playlistSongs (how many songs the user put on a playlist)\n",
    " - thumbsUp (how many thumps up)\n",
    " - thumbsDown (how many thumps down)\n",
    " - add_friend (how many friends user added)\n",
    " - sessions (how many sessions a user had)\n",
    " - songs (average of how many songs a user played in one session)\n",
    "\n",
    "\n"
   ]
  },
  {
   "cell_type": "code",
   "execution_count": 25,
   "metadata": {},
   "outputs": [
    {
     "name": "stdout",
     "output_type": "stream",
     "text": [
      "+------+------+-----+--------+-------------+---------+-------------+-----+\n",
      "|userId|gender|level|    page| registration|sessionId|           ts|churn|\n",
      "+------+------+-----+--------+-------------+---------+-------------+-----+\n",
      "|    30|     M| paid|NextSong|1538173362000|       29|1538352117000|    0|\n",
      "+------+------+-----+--------+-------------+---------+-------------+-----+\n",
      "only showing top 1 row\n",
      "\n"
     ]
    }
   ],
   "source": [
    "# filter to only include columns needed\n",
    "event = user_log_valid.select([\"userId\", \"gender\", \"level\", \"page\", \"registration\", \"sessionId\", \"ts\", \"churn\"])\n",
    "\n",
    "# display example\n",
    "event.show(1)\n"
   ]
  },
  {
   "cell_type": "code",
   "execution_count": 26,
   "metadata": {},
   "outputs": [],
   "source": [
    "# change timestamp into new format\n",
    "get_time = F.udf(lambda x: pd.Timestamp(x / 1000.0,unit='s').strftime(\"%Y-%m-%d %H:%M:%S\"))\n",
    "event = event.withColumn(\"time\", get_time(event.ts)).withColumn('registration_time',get_time(event.registration))\n",
    "event = event.withColumn('month', F.month(F.col('time')))\n",
    "event = event.withColumn('date', F.from_unixtime(F.col('ts')/1000).cast(DateType()))\n",
    "\n",
    "user_time=event.groupBy('userId','registration').agg(F.min('time'),F.max('time'))\n",
    "user_time=user_time.select('userId','registration',\n",
    "                          F.to_timestamp('min(time)', 'yyyy-MM-dd HH:mm:ss').alias('first_time'),\n",
    "                          F.to_timestamp('max(time)', 'yyyy-MM-dd HH:mm:ss').alias('last_time'))\n",
    "\n",
    "# calculate days between last day for a user and last day in df\n",
    "user_time=user_time.withColumn('registered_days',F.datediff('last_time','first_time')).withColumn(\n",
    "    'days_since_online',F.datediff(F.to_date(F.lit(\"2018-12-03\")),'last_time')) #(2018-12-03) is the last date in the dataframe\n",
    "user_time=user_time.select('userId','registered_days','days_since_online')"
   ]
  },
  {
   "cell_type": "markdown",
   "metadata": {},
   "source": [
    "The user_time dataframe will alter be joined with the feature df. To create the next features only relevant columns are taken from the event df."
   ]
  },
  {
   "cell_type": "code",
   "execution_count": 27,
   "metadata": {},
   "outputs": [
    {
     "name": "stdout",
     "output_type": "stream",
     "text": [
      "+------+------+-----+--------+-------------+---------+-------------+-----+\n",
      "|userId|gender|level|    page| registration|sessionId|           ts|churn|\n",
      "+------+------+-----+--------+-------------+---------+-------------+-----+\n",
      "|    30|     M| paid|NextSong|1538173362000|       29|1538352117000|    0|\n",
      "+------+------+-----+--------+-------------+---------+-------------+-----+\n",
      "only showing top 1 row\n",
      "\n"
     ]
    }
   ],
   "source": [
    "# filter to only include columns needed\n",
    "event = user_log_valid.select([\"userId\", \"gender\", \"level\", \"page\", \"registration\", \"sessionId\", \"ts\", \"churn\"])\n",
    "\n",
    "# display example\n",
    "event.show(1)"
   ]
  },
  {
   "cell_type": "code",
   "execution_count": 28,
   "metadata": {},
   "outputs": [
    {
     "name": "stdout",
     "output_type": "stream",
     "text": [
      "+------+-------------+---------+----------+\n",
      "|userId|           ts|     page|downgraded|\n",
      "+------+-------------+---------+----------+\n",
      "|    42|1538418982000|     Home|         0|\n",
      "|    42|1538599551000|     Home|         0|\n",
      "|    42|1538599726000| NextSong|         0|\n",
      "|    42|1538599998000| NextSong|         0|\n",
      "|    42|1538599999000|Thumbs Up|         0|\n",
      "+------+-------------+---------+----------+\n",
      "only showing top 5 rows\n",
      "\n"
     ]
    }
   ],
   "source": [
    "# transformation for feature downgraded\n",
    "flag_downgrade = F.udf(lambda x: 1 if x == \"Submit Downgrade\" else 0, IntegerType())\n",
    "event = event.withColumn(\"downgraded\", flag_downgrade(\"page\"))\n",
    "event.select([\"userId\", \"ts\", \"page\", \"downgraded\"])\\\n",
    "     .where(event.userId == \"42\")\\\n",
    "     .show(5)\n"
   ]
  },
  {
   "cell_type": "code",
   "execution_count": 29,
   "metadata": {},
   "outputs": [
    {
     "name": "stdout",
     "output_type": "stream",
     "text": [
      "+------+------+-------------+\n",
      "|userId|gender|gender_female|\n",
      "+------+------+-------------+\n",
      "|    42|     F|            1|\n",
      "+------+------+-------------+\n",
      "only showing top 1 row\n",
      "\n"
     ]
    }
   ],
   "source": [
    "# transformation for feature gender\n",
    "flag_gender = F.udf(lambda x: 1 if x == \"F\" else 0, IntegerType())\n",
    "event = event.withColumn(\"gender_female\", flag_gender(\"gender\"))\n",
    "event.select([\"userId\", \"gender\", \"gender_female\"])\\\n",
    "     .where(event.userId == \"42\")\\\n",
    "     .show(1)\n"
   ]
  },
  {
   "cell_type": "code",
   "execution_count": 30,
   "metadata": {},
   "outputs": [
    {
     "name": "stdout",
     "output_type": "stream",
     "text": [
      "+------+-------------+-----+----------+\n",
      "|userId|           ts|level|level_paid|\n",
      "+------+-------------+-----+----------+\n",
      "|    42|1538418982000| free|         0|\n",
      "|    42|1538599551000| free|         0|\n",
      "|    42|1538599726000| free|         0|\n",
      "|    42|1538599998000| free|         0|\n",
      "|    42|1538599999000| free|         0|\n",
      "|    42|1538600156000| free|         0|\n",
      "|    42|1538600478000| free|         0|\n",
      "|    42|1538600715000| free|         0|\n",
      "|    42|1538601191000| free|         0|\n",
      "|    42|1538601393000| free|         0|\n",
      "+------+-------------+-----+----------+\n",
      "only showing top 10 rows\n",
      "\n"
     ]
    }
   ],
   "source": [
    "# transformation for feature level\n",
    "flag_level = F.udf(lambda x: 1 if x == \"paid\" else 0, IntegerType())\n",
    "event = event.withColumn(\"level_paid\", flag_level(\"level\"))\n",
    "event.select([\"userId\", \"ts\", \"level\", \"level_paid\"])\\\n",
    "     .where(event.userId == \"42\")\\\n",
    "     .show(10)"
   ]
  },
  {
   "cell_type": "code",
   "execution_count": 31,
   "metadata": {},
   "outputs": [
    {
     "name": "stdout",
     "output_type": "stream",
     "text": [
      "+------+-------------+---------+-------------+\n",
      "|userId|           ts|     page|playlistSongs|\n",
      "+------+-------------+---------+-------------+\n",
      "|    42|1538418982000|     Home|            0|\n",
      "|    42|1538599551000|     Home|            0|\n",
      "|    42|1538599726000| NextSong|            0|\n",
      "|    42|1538599998000| NextSong|            0|\n",
      "|    42|1538599999000|Thumbs Up|            0|\n",
      "|    42|1538600156000| NextSong|            0|\n",
      "|    42|1538600478000| NextSong|            0|\n",
      "|    42|1538600715000| NextSong|            0|\n",
      "|    42|1538601191000| NextSong|            0|\n",
      "|    42|1538601393000| NextSong|            0|\n",
      "+------+-------------+---------+-------------+\n",
      "only showing top 10 rows\n",
      "\n"
     ]
    }
   ],
   "source": [
    "# transformation for feature playlistSongs\n",
    "flag_playlist_event = F.udf(lambda x: 1 if x == \"Add to Playlist\" else 0, IntegerType())\n",
    "event = event.withColumn(\"playlistSongs\", flag_playlist_event(\"page\"))\n",
    "event.select([\"userId\", \"ts\", \"page\", \"playlistSongs\"])\\\n",
    "     .where(event.userId == \"42\")\\\n",
    "     .show(10)"
   ]
  },
  {
   "cell_type": "code",
   "execution_count": 32,
   "metadata": {},
   "outputs": [
    {
     "name": "stdout",
     "output_type": "stream",
     "text": [
      "+------+-------------+---------+----------+\n",
      "|userId|           ts|     page|add_friend|\n",
      "+------+-------------+---------+----------+\n",
      "|    42|1538418982000|     Home|         0|\n",
      "|    42|1538599551000|     Home|         0|\n",
      "|    42|1538599726000| NextSong|         0|\n",
      "|    42|1538599998000| NextSong|         0|\n",
      "|    42|1538599999000|Thumbs Up|         0|\n",
      "|    42|1538600156000| NextSong|         0|\n",
      "|    42|1538600478000| NextSong|         0|\n",
      "|    42|1538600715000| NextSong|         0|\n",
      "|    42|1538601191000| NextSong|         0|\n",
      "|    42|1538601393000| NextSong|         0|\n",
      "+------+-------------+---------+----------+\n",
      "only showing top 10 rows\n",
      "\n"
     ]
    }
   ],
   "source": [
    "# transformation for feature add_friend\n",
    "flag_add_friend_event = F.udf(lambda x: 1 if x == \"Add Friend\" else 0, IntegerType())\n",
    "event = event.withColumn(\"add_friend\", flag_add_friend_event(\"page\"))\n",
    "event.select([\"userId\", \"ts\", \"page\", \"add_friend\"])\\\n",
    "     .where(event.userId == \"42\")\\\n",
    "     .show(10)"
   ]
  },
  {
   "cell_type": "code",
   "execution_count": 33,
   "metadata": {},
   "outputs": [
    {
     "name": "stdout",
     "output_type": "stream",
     "text": [
      "+------+-------------+---------+--------+\n",
      "|userId|           ts|     page|thumbsUp|\n",
      "+------+-------------+---------+--------+\n",
      "|    42|1538418982000|     Home|       0|\n",
      "|    42|1538599551000|     Home|       0|\n",
      "|    42|1538599726000| NextSong|       0|\n",
      "|    42|1538599998000| NextSong|       0|\n",
      "|    42|1538599999000|Thumbs Up|       1|\n",
      "|    42|1538600156000| NextSong|       0|\n",
      "|    42|1538600478000| NextSong|       0|\n",
      "|    42|1538600715000| NextSong|       0|\n",
      "|    42|1538601191000| NextSong|       0|\n",
      "|    42|1538601393000| NextSong|       0|\n",
      "+------+-------------+---------+--------+\n",
      "only showing top 10 rows\n",
      "\n"
     ]
    }
   ],
   "source": [
    "# transformation for feature thumps_up\n",
    "flag_thumbs_up = F.udf(lambda x: 1 if x == \"Thumbs Up\" else 0, IntegerType())\n",
    "event = event.withColumn(\"thumbsUp\", flag_thumbs_up(\"page\"))\n",
    "event.select([\"userId\", \"ts\", \"page\", \"thumbsUp\"])\\\n",
    "     .where(event.userId == \"42\")\\\n",
    "     .show(10)"
   ]
  },
  {
   "cell_type": "code",
   "execution_count": 34,
   "metadata": {},
   "outputs": [
    {
     "name": "stdout",
     "output_type": "stream",
     "text": [
      "+------+-------------+---------+----------+\n",
      "|userId|           ts|     page|thumbsDown|\n",
      "+------+-------------+---------+----------+\n",
      "|    42|1538418982000|     Home|         0|\n",
      "|    42|1538599551000|     Home|         0|\n",
      "|    42|1538599726000| NextSong|         0|\n",
      "|    42|1538599998000| NextSong|         0|\n",
      "|    42|1538599999000|Thumbs Up|         0|\n",
      "|    42|1538600156000| NextSong|         0|\n",
      "|    42|1538600478000| NextSong|         0|\n",
      "|    42|1538600715000| NextSong|         0|\n",
      "|    42|1538601191000| NextSong|         0|\n",
      "|    42|1538601393000| NextSong|         0|\n",
      "+------+-------------+---------+----------+\n",
      "only showing top 10 rows\n",
      "\n"
     ]
    }
   ],
   "source": [
    "# transformation for feature thumps_down\n",
    "flag_thumbs_down = F.udf(lambda x: 1 if x == \"Thumbs Down\" else 0, IntegerType())\n",
    "event = event.withColumn(\"thumbsDown\", flag_thumbs_down(\"page\"))\n",
    "event.select([\"userId\", \"ts\", \"page\", \"thumbsDown\"])\\\n",
    "     .where(event.userId == \"42\")\\\n",
    "     .show(10)\n"
   ]
  },
  {
   "cell_type": "code",
   "execution_count": 35,
   "metadata": {},
   "outputs": [
    {
     "name": "stdout",
     "output_type": "stream",
     "text": [
      "+------+---------+-------------+---------+----+\n",
      "|userId|sessionId|           ts|     page|song|\n",
      "+------+---------+-------------+---------+----+\n",
      "|    42|      291|1538418982000|     Home|   0|\n",
      "|    42|      304|1538599551000|     Home|   0|\n",
      "|    42|      304|1538599726000| NextSong|   1|\n",
      "|    42|      304|1538599998000| NextSong|   1|\n",
      "|    42|      304|1538599999000|Thumbs Up|   0|\n",
      "+------+---------+-------------+---------+----+\n",
      "only showing top 5 rows\n",
      "\n",
      "+------+---------+--------------+\n",
      "|userId|sessionId|songsInSession|\n",
      "+------+---------+--------------+\n",
      "|    92|      358|            57|\n",
      "|    42|      433|            16|\n",
      "|   101|      635|           708|\n",
      "|   120|      627|           236|\n",
      "|   140|      798|             3|\n",
      "+------+---------+--------------+\n",
      "only showing top 5 rows\n",
      "\n",
      "+------+-----+\n",
      "|userId|songs|\n",
      "+------+-----+\n",
      "|100010| 39.3|\n",
      "|200002| 64.5|\n",
      "|   125|  8.0|\n",
      "|    51|211.1|\n",
      "|   124|140.7|\n",
      "+------+-----+\n",
      "only showing top 5 rows\n",
      "\n"
     ]
    }
   ],
   "source": [
    "# transformation for feature songs\n",
    "flag_song = F.udf(lambda x: 1 if x == \"NextSong\" else 0, IntegerType())\n",
    "\n",
    "event = event.withColumn(\"song\", flag_song(\"page\"))\n",
    "event.select([\"userId\", \"sessionId\", \"ts\", \"page\", \"song\"])\\\n",
    "     .where(event.userId == \"42\")\\\n",
    "     .show(5)\n",
    "\n",
    "# Sum up all songs in one session\n",
    "session = event.groupby(event.userId, event.sessionId)\\\n",
    "               .agg({\"song\": \"sum\"}) \\\n",
    "               .select(F.col(\"userId\"), F.col(\"sessionId\"), \n",
    "                       F.col(\"sum(song)\").alias(\"songsInSession\"))\n",
    "session.show(5)\n",
    "\n",
    "# take average for song in each session for each user\n",
    "features_session = session.groupby(session.userId)\\\n",
    "                          .agg({\"songsInSession\": \"avg\"})\\\n",
    "                          .select(F.col(\"userId\"),\n",
    "                                  F.round(F.col(\"avg(songsInSession)\"), 1).alias(\"songs\"))\n",
    "\n",
    "features_session.show(5)\n"
   ]
  },
  {
   "cell_type": "code",
   "execution_count": 36,
   "metadata": {},
   "outputs": [
    {
     "name": "stdout",
     "output_type": "stream",
     "text": [
      "+------+------+-----+---------------+-------------+---------+-------------+-----+----------+-------------+----------+-------------+----------+--------+----------+----+\n",
      "|userId|gender|level|           page| registration|sessionId|           ts|churn|downgraded|gender_female|level_paid|playlistSongs|add_friend|thumbsUp|thumbsDown|song|\n",
      "+------+------+-----+---------------+-------------+---------+-------------+-----+----------+-------------+----------+-------------+----------+--------+----------+----+\n",
      "|    30|     M| paid|       NextSong|1538173362000|       29|1538352117000|    0|         0|            0|         1|            0|         0|       0|         0|   1|\n",
      "|     9|     M| free|       NextSong|1538331630000|        8|1538352180000|    0|         0|            0|         0|            0|         0|       0|         0|   1|\n",
      "|    30|     M| paid|       NextSong|1538173362000|       29|1538352394000|    0|         0|            0|         1|            0|         0|       0|         0|   1|\n",
      "|     9|     M| free|       NextSong|1538331630000|        8|1538352416000|    0|         0|            0|         0|            0|         0|       0|         0|   1|\n",
      "|    30|     M| paid|       NextSong|1538173362000|       29|1538352676000|    0|         0|            0|         1|            0|         0|       0|         0|   1|\n",
      "|     9|     M| free|       NextSong|1538331630000|        8|1538352678000|    0|         0|            0|         0|            0|         0|       0|         0|   1|\n",
      "|     9|     M| free|       NextSong|1538331630000|        8|1538352886000|    0|         0|            0|         0|            0|         0|       0|         0|   1|\n",
      "|    30|     M| paid|       NextSong|1538173362000|       29|1538352899000|    0|         0|            0|         1|            0|         0|       0|         0|   1|\n",
      "|    30|     M| paid|Add to Playlist|1538173362000|       29|1538352905000|    0|         0|            0|         1|            1|         0|       0|         0|   0|\n",
      "|    30|     M| paid|       NextSong|1538173362000|       29|1538353084000|    0|         0|            0|         1|            0|         0|       0|         0|   1|\n",
      "|     9|     M| free|       NextSong|1538331630000|        8|1538353146000|    0|         0|            0|         0|            0|         0|       0|         0|   1|\n",
      "|     9|     M| free|    Roll Advert|1538331630000|        8|1538353150000|    0|         0|            0|         0|            0|         0|       0|         0|   0|\n",
      "|    30|     M| paid|       NextSong|1538173362000|       29|1538353218000|    0|         0|            0|         1|            0|         0|       0|         0|   1|\n",
      "|     9|     M| free|       NextSong|1538331630000|        8|1538353375000|    0|         0|            0|         0|            0|         0|       0|         0|   1|\n",
      "|     9|     M| free|      Thumbs Up|1538331630000|        8|1538353376000|    0|         0|            0|         0|            0|         0|       1|         0|   0|\n",
      "|    30|     M| paid|       NextSong|1538173362000|       29|1538353441000|    0|         0|            0|         1|            0|         0|       0|         0|   1|\n",
      "|     9|     M| free|       NextSong|1538331630000|        8|1538353576000|    0|         0|            0|         0|            0|         0|       0|         0|   1|\n",
      "|    74|     F| free|       NextSong|1537365219000|      217|1538353668000|    0|         0|            1|         0|            0|         0|       0|         0|   1|\n",
      "|    30|     M| paid|       NextSong|1538173362000|       29|1538353687000|    0|         0|            0|         1|            0|         0|       0|         0|   1|\n",
      "|     9|     M| free|       NextSong|1538331630000|        8|1538353744000|    0|         0|            0|         0|            0|         0|       0|         0|   1|\n",
      "+------+------+-----+---------------+-------------+---------+-------------+-----+----------+-------------+----------+-------------+----------+--------+----------+----+\n",
      "only showing top 20 rows\n",
      "\n"
     ]
    }
   ],
   "source": [
    "event.show()"
   ]
  },
  {
   "cell_type": "code",
   "execution_count": 37,
   "metadata": {},
   "outputs": [
    {
     "name": "stdout",
     "output_type": "stream",
     "text": [
      "+------+-------------+------------------+---------------+------------------+----------------+---------------+----------+---------------+---------------+\n",
      "|userId|sum(thumbsUp)|sum(playlistSongs)|sum(thumbsDown)|max(gender_female)|count(sessionId)|max(level_paid)|max(churn)|max(downgraded)|sum(add_friend)|\n",
      "+------+-------------+------------------+---------------+------------------+----------------+---------------+----------+---------------+---------------+\n",
      "|100010|           17|                 7|              5|                 1|             381|              0|         0|              0|              4|\n",
      "|200002|           21|                 8|              6|                 0|             474|              1|         0|              0|              4|\n",
      "|   125|            0|                 0|              0|                 0|              11|              0|         1|              0|              0|\n",
      "|    51|          100|                52|             21|                 0|            2464|              1|         1|              0|             28|\n",
      "|   124|          171|               118|             41|                 1|            4825|              1|         0|              0|             74|\n",
      "+------+-------------+------------------+---------------+------------------+----------------+---------------+----------+---------------+---------------+\n",
      "only showing top 5 rows\n",
      "\n"
     ]
    }
   ],
   "source": [
    "# have features on user basis\n",
    "features_event = event.groupby(event.userId)\\\n",
    "                      .agg({\"downgraded\": \"max\", \n",
    "                            \"gender_female\": \"max\",\n",
    "                            \"level_paid\": \"max\",\n",
    "                            \"playlistSongs\": \"sum\",\n",
    "                            \"thumbsUp\": \"sum\",\n",
    "                            \"thumbsDown\": \"sum\",\n",
    "                            \"add_friend\": \"sum\",\n",
    "                            \"churn\": \"max\",\n",
    "                            \"sessionId\" : \"count\"}) \n",
    "\n",
    "features_event.show(5)"
   ]
  },
  {
   "cell_type": "code",
   "execution_count": 38,
   "metadata": {},
   "outputs": [
    {
     "name": "stdout",
     "output_type": "stream",
     "text": [
      "+------+----------+-------------+----------+-------------+--------+----------+-----------+-----+--------+\n",
      "|userId|downgraded|gender_female|level_paid|playlistSongs|thumbsUp|thumbsDown|add_friends|churn|sessions|\n",
      "+------+----------+-------------+----------+-------------+--------+----------+-----------+-----+--------+\n",
      "|100010|         0|            1|         0|            7|      17|         5|          4|    0|     381|\n",
      "|200002|         0|            0|         1|            8|      21|         6|          4|    0|     474|\n",
      "|   125|         0|            0|         0|            0|       0|         0|          0|    1|      11|\n",
      "|    51|         0|            0|         1|           52|     100|        21|         28|    1|    2464|\n",
      "|   124|         0|            1|         1|          118|     171|        41|         74|    0|    4825|\n",
      "+------+----------+-------------+----------+-------------+--------+----------+-----------+-----+--------+\n",
      "only showing top 5 rows\n",
      "\n"
     ]
    }
   ],
   "source": [
    "# rename aggregated columns\n",
    "features_event = features_event.select(F.col(\"userId\"),\n",
    "                                       F.col(\"max(downgraded)\").alias(\"downgraded\"),\n",
    "                                       F.col(\"max(gender_female)\").alias(\"gender_female\"),\n",
    "                                       F.col(\"max(level_paid)\").alias(\"level_paid\"),\n",
    "                                       F.col(\"sum(playlistSongs)\").alias(\"playlistSongs\"),\n",
    "                                       F.col(\"sum(thumbsUp)\").alias(\"thumbsUp\"),\n",
    "                                       F.col(\"sum(thumbsDown)\").alias(\"thumbsDown\"),\n",
    "                                       F.col(\"sum(add_friend)\").alias(\"add_friends\"),\n",
    "                                       F.col(\"max(churn)\").alias(\"churn\"),\n",
    "                                       F.col(\"count(sessionId)\").alias(\"sessions\"))\n",
    "# present result\n",
    "features_event.show(5)"
   ]
  },
  {
   "cell_type": "code",
   "execution_count": 39,
   "metadata": {},
   "outputs": [
    {
     "name": "stdout",
     "output_type": "stream",
     "text": [
      "+------+----------+-------------+----------+-------------+--------+----------+-----------+-----+--------+-----+\n",
      "|userId|downgraded|gender_female|level_paid|playlistSongs|thumbsUp|thumbsDown|add_friends|churn|sessions|songs|\n",
      "+------+----------+-------------+----------+-------------+--------+----------+-----------+-----+--------+-----+\n",
      "|100010|         0|            1|         0|            7|      17|         5|          4|    0|     381| 39.3|\n",
      "|200002|         0|            0|         1|            8|      21|         6|          4|    0|     474| 64.5|\n",
      "|   125|         0|            0|         0|            0|       0|         0|          0|    1|      11|  8.0|\n",
      "|   124|         0|            1|         1|          118|     171|        41|         74|    0|    4825|140.7|\n",
      "|    51|         0|            0|         1|           52|     100|        21|         28|    1|    2464|211.1|\n",
      "+------+----------+-------------+----------+-------------+--------+----------+-----------+-----+--------+-----+\n",
      "only showing top 5 rows\n",
      "\n"
     ]
    }
   ],
   "source": [
    "features=features_event.join(features_session, ['userId'])\n",
    "features.show(n=5)"
   ]
  },
  {
   "cell_type": "code",
   "execution_count": 40,
   "metadata": {},
   "outputs": [
    {
     "name": "stdout",
     "output_type": "stream",
     "text": [
      "+----------+-------------+----------+-------------+--------+----------+-----------+-----+--------+-----+---------------+-----------------+\n",
      "|downgraded|gender_female|level_paid|playlistSongs|thumbsUp|thumbsDown|add_friends|churn|sessions|songs|registered_days|days_since_online|\n",
      "+----------+-------------+----------+-------------+--------+----------+-----------+-----+--------+-----+---------------+-----------------+\n",
      "|         0|            1|         0|            7|      17|         5|          4|    0|     381| 39.3|             44|               12|\n",
      "|         0|            0|         1|            8|      21|         6|          4|    0|     474| 64.5|             45|               18|\n",
      "|         0|            0|         0|            0|       0|         0|          0|    1|      11|  8.0|              0|               52|\n",
      "|         0|            1|         1|          118|     171|        41|         74|    0|    4825|140.7|             60|                3|\n",
      "|         0|            0|         1|           52|     100|        21|         28|    1|    2464|211.1|             16|               47|\n",
      "+----------+-------------+----------+-------------+--------+----------+-----------+-----+--------+-----+---------------+-----------------+\n",
      "only showing top 5 rows\n",
      "\n"
     ]
    }
   ],
   "source": [
    "features=features.join(user_time, ['userId']).drop(features.userId)\n",
    "features.show(n=5)"
   ]
  },
  {
   "cell_type": "code",
   "execution_count": 41,
   "metadata": {},
   "outputs": [
    {
     "name": "stdout",
     "output_type": "stream",
     "text": [
      "root\n",
      " |-- downgraded: integer (nullable = true)\n",
      " |-- gender_female: integer (nullable = true)\n",
      " |-- level_paid: integer (nullable = true)\n",
      " |-- playlistSongs: long (nullable = true)\n",
      " |-- thumbsUp: long (nullable = true)\n",
      " |-- thumbsDown: long (nullable = true)\n",
      " |-- add_friends: long (nullable = true)\n",
      " |-- churn: integer (nullable = true)\n",
      " |-- sessions: long (nullable = false)\n",
      " |-- songs: double (nullable = true)\n",
      " |-- registered_days: integer (nullable = true)\n",
      " |-- days_since_online: integer (nullable = true)\n",
      "\n"
     ]
    }
   ],
   "source": [
    "# check all features\n",
    "features.printSchema()"
   ]
  },
  {
   "cell_type": "markdown",
   "metadata": {},
   "source": [
    "# Modeling\n"
   ]
  },
  {
   "cell_type": "markdown",
   "metadata": {},
   "source": [
    "In the modeling section tree models will be build. \n",
    "\n",
    "1. Linear Regression Model\n",
    "2. Random Forest Model\n",
    "3. Gradiant Boosting Modle\n",
    "\n",
    "As previously discussed F1 will be the metric to optimize"
   ]
  },
  {
   "cell_type": "code",
   "execution_count": 42,
   "metadata": {},
   "outputs": [
    {
     "name": "stdout",
     "output_type": "stream",
     "text": [
      "Training Dataset Count: 163\n",
      "Test Dataset Count: 62\n"
     ]
    }
   ],
   "source": [
    "# Train and Test Split\n",
    "train, test = features.randomSplit([0.7, 0.3], seed = 42)\n",
    "\n",
    "print(\"Training Dataset Count: \" + str(train.count()))\n",
    "print(\"Test Dataset Count: \" + str(test.count()))"
   ]
  },
  {
   "cell_type": "code",
   "execution_count": 43,
   "metadata": {},
   "outputs": [],
   "source": [
    "def build_model(classifier, param):\n",
    "    \"\"\"\n",
    "    Builds a model based on the inputs\n",
    "    \n",
    "    Args\n",
    "    -------\n",
    "    classifier: type of classifier\n",
    "    param: built param grid\n",
    "    \n",
    "    Returns\n",
    "    -------\n",
    "    model:\n",
    "      ML pipeline model\n",
    "      \n",
    "    \"\"\"\n",
    "    assembler = VectorAssembler(inputCols=feature_columns, outputCol=\"features\")\n",
    "    scaler = MinMaxScaler(inputCol=\"features\", outputCol=\"scaled_features\")\n",
    "    pipeline = Pipeline(stages=[assembler, scaler, classifier])\n",
    "\n",
    "    model = CrossValidator(\n",
    "        estimator=pipeline,\n",
    "        estimatorParamMaps=param,\n",
    "        evaluator = MulticlassClassificationEvaluator(labelCol='churn', metricName='f1'),\n",
    "        numFolds=5,\n",
    "    )\n",
    "    return model"
   ]
  },
  {
   "cell_type": "code",
   "execution_count": 44,
   "metadata": {},
   "outputs": [],
   "source": [
    "feature_columns = [col for col in features.columns if col!='churn']"
   ]
  },
  {
   "cell_type": "markdown",
   "metadata": {},
   "source": [
    "## Logistic Regression"
   ]
  },
  {
   "cell_type": "code",
   "execution_count": 45,
   "metadata": {},
   "outputs": [],
   "source": [
    "#Logistic Regression\n",
    "lr = LogisticRegression(featuresCol=\"scaled_features\", labelCol=\"churn\")\n",
    "lr_param = ParamGridBuilder().build()\n",
    "model = build_model(lr, lr_param)\n"
   ]
  },
  {
   "cell_type": "code",
   "execution_count": 46,
   "metadata": {},
   "outputs": [
    {
     "name": "stdout",
     "output_type": "stream",
     "text": [
      "CPU times: user 8.96 s, sys: 4.36 s, total: 13.3 s\n",
      "Wall time: 15min 31s\n"
     ]
    }
   ],
   "source": [
    "%%time\n",
    "fit_model = model.fit(train)"
   ]
  },
  {
   "cell_type": "code",
   "execution_count": 47,
   "metadata": {},
   "outputs": [
    {
     "data": {
      "text/plain": [
       "[Row(prediction=0.0), Row(prediction=1.0)]"
      ]
     },
     "execution_count": 47,
     "metadata": {},
     "output_type": "execute_result"
    }
   ],
   "source": [
    "pred = fit_model.transform(test)\n",
    "\n",
    "pred.select(\"prediction\").dropDuplicates().collect()"
   ]
  },
  {
   "cell_type": "code",
   "execution_count": 48,
   "metadata": {},
   "outputs": [
    {
     "name": "stdout",
     "output_type": "stream",
     "text": [
      "f1 using Logistic Regression: 0.877630115332826\n"
     ]
    }
   ],
   "source": [
    "evaluator = MulticlassClassificationEvaluator(predictionCol=\"prediction\", labelCol=\"churn\")\n",
    "f1_score = evaluator.evaluate(pred, {evaluator.metricName: \"f1\"})\n",
    "print(\"f1 using Logistic Regression: {}\".format(f1_score))\n"
   ]
  },
  {
   "cell_type": "markdown",
   "metadata": {},
   "source": [
    "## Random Forest"
   ]
  },
  {
   "cell_type": "code",
   "execution_count": 49,
   "metadata": {},
   "outputs": [],
   "source": [
    "#RandomForest\n",
    "rf = RandomForestClassifier(featuresCol=\"scaled_features\", labelCol=\"churn\")\n",
    "rf_param = ParamGridBuilder().build()\n",
    "rf_model = build_model(rf, rf_param)"
   ]
  },
  {
   "cell_type": "code",
   "execution_count": 50,
   "metadata": {},
   "outputs": [
    {
     "name": "stdout",
     "output_type": "stream",
     "text": [
      "CPU times: user 2.36 s, sys: 847 ms, total: 3.2 s\n",
      "Wall time: 7min 7s\n"
     ]
    }
   ],
   "source": [
    "%%time\n",
    "rf_fit_model = rf_model.fit(train)"
   ]
  },
  {
   "cell_type": "code",
   "execution_count": 51,
   "metadata": {},
   "outputs": [],
   "source": [
    "rf_pred = rf_fit_model.transform(test)\n"
   ]
  },
  {
   "cell_type": "code",
   "execution_count": 52,
   "metadata": {},
   "outputs": [
    {
     "name": "stdout",
     "output_type": "stream",
     "text": [
      "f1 using Random Forest: 0.9150190773499827\n"
     ]
    }
   ],
   "source": [
    "rf_f1_score = evaluator.evaluate(rf_pred, {evaluator.metricName: \"f1\"})\n",
    "print(\"f1 using Random Forest: {}\".format(rf_f1_score))"
   ]
  },
  {
   "cell_type": "markdown",
   "metadata": {},
   "source": [
    "## Gradiant Boosting"
   ]
  },
  {
   "cell_type": "code",
   "execution_count": 53,
   "metadata": {},
   "outputs": [],
   "source": [
    "#GradiantBoosting\n",
    "gbt =GBTClassifier(featuresCol=\"scaled_features\", labelCol=\"churn\")\n",
    "gbt_param = ParamGridBuilder().build()\n",
    "gbt_model = build_model(gbt, gbt_param)"
   ]
  },
  {
   "cell_type": "code",
   "execution_count": 54,
   "metadata": {},
   "outputs": [
    {
     "name": "stdout",
     "output_type": "stream",
     "text": [
      "CPU times: user 13.2 s, sys: 6.06 s, total: 19.3 s\n",
      "Wall time: 27min 11s\n"
     ]
    }
   ],
   "source": [
    "%%time\n",
    "gbt_fit_model = gbt_model.fit(train)"
   ]
  },
  {
   "cell_type": "code",
   "execution_count": 55,
   "metadata": {},
   "outputs": [],
   "source": [
    "gbt_pred = gbt_fit_model.transform(test)"
   ]
  },
  {
   "cell_type": "code",
   "execution_count": 56,
   "metadata": {},
   "outputs": [
    {
     "data": {
      "text/plain": [
       "[Row(prediction=0.0), Row(prediction=1.0)]"
      ]
     },
     "execution_count": 56,
     "metadata": {},
     "output_type": "execute_result"
    }
   ],
   "source": [
    "gbt_pred.select(\"prediction\").dropDuplicates().collect()"
   ]
  },
  {
   "cell_type": "code",
   "execution_count": 57,
   "metadata": {},
   "outputs": [
    {
     "name": "stdout",
     "output_type": "stream",
     "text": [
      "f1 using Gradient Boosting: 0.793405017921147\n"
     ]
    }
   ],
   "source": [
    "gbt_f1_score = evaluator.evaluate(gbt_pred, {evaluator.metricName: \"f1\"})\n",
    "print(\"f1 using Gradient Boosting: {}\".format(gbt_f1_score))"
   ]
  }
 ],
 "metadata": {
  "kernelspec": {
   "display_name": "Python 3",
   "language": "python",
   "name": "python3"
  },
  "language_info": {
   "codemirror_mode": {
    "name": "ipython",
    "version": 3
   },
   "file_extension": ".py",
   "mimetype": "text/x-python",
   "name": "python",
   "nbconvert_exporter": "python",
   "pygments_lexer": "ipython3",
   "version": "3.6.3"
  }
 },
 "nbformat": 4,
 "nbformat_minor": 2
}
